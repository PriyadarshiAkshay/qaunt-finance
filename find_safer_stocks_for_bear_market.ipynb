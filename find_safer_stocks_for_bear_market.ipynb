{
 "cells": [
  {
   "cell_type": "code",
   "execution_count": null,
   "metadata": {},
   "outputs": [],
   "source": [
    "import pandas as pd\n",
    "\n",
    "df=pd.read_csv('GSPX_holdings_12.12.2024.csv',skiprows=2)\n",
    "tickrs=df['Ticker'].to_list()\n",
    "\n",
    "missing_stocks_yfinance=['BRKB','GEV','KVUE','GEHC','SW','VLTO']"
   ]
  },
  {
   "cell_type": "code",
   "execution_count": 31,
   "metadata": {},
   "outputs": [
    {
     "data": {
      "text/plain": [
       "{'AAPL': 2.1903386949757118,\n",
       " 'NVDA': 2.560284677940616,\n",
       " 'MSFT': 1.407335447828631,\n",
       " 'GOOG': 1.2288266737635405,\n",
       " 'GOOGL': 1.230613467342892,\n",
       " 'AMZN': 2.007286109443888,\n",
       " 'META': 1.345179314062828,\n",
       " 'TSLA': 1.86848189565212}"
      ]
     },
     "execution_count": 31,
     "metadata": {},
     "output_type": "execute_result"
    }
   ],
   "source": [
    "# Find stocks which are less affected by bear markets\n",
    "import yfinance as yf\n",
    "import numpy as np\n",
    "import pandas as pd\n",
    "\n",
    "\n",
    "#stocks=['AAPL','NVDA','MSFT','GOOG','GOOGL','AMZN','META','TSLA']\n",
    "spx=yf.Ticker('^GSPC').history(period=\"max\")\n",
    "spx['daily_return']=spx['Close'].pct_change()\n",
    "spx.dropna(inplace=True)\n",
    "\n",
    "\n",
    "bear_markets=[('2000-08-29','2002-09-03'),('2007-10-09','2009-03-09'),('2020-02-19','2020-03-23'),('2021-12-29','2022-10-04')]\n",
    "\n",
    "def get_bear_market_info(bear_markets, stock):\n",
    "    selected_dfs = []\n",
    "    for bear_market in bear_markets:\n",
    "        start,end=bear_market\n",
    "        data=stock[(stock.index>=start) & (stock.index<=end)]\n",
    "        selected_dfs.append(data)\n",
    "    \n",
    "    return pd.concat(selected_dfs) if selected_dfs else pd.DataFrame()\n",
    "\n",
    "spx_bear=get_bear_market_info(bear_markets,spx)\n",
    "\n",
    "def get_beta(tikr='AAPL',spx=spx_bear):\n",
    "    try:\n",
    "        data=yf.Ticker(tikr).history(period=\"max\")\n",
    "    except:\n",
    "        print(f'Ticker {tikr} not found')\n",
    "        return None\n",
    "    data=get_bear_market_info(bear_markets,data)\n",
    "    cutoff_date=max(data.index[0],spx.index[0])\n",
    "    _spx=spx[spx.index>cutoff_date]\n",
    "    data['daily_return']=data['Close'].pct_change()\n",
    "    data.dropna(inplace=True)\n",
    "    data=data[data.index>cutoff_date]\n",
    "    beta = np.cov(data['daily_return'],_spx['daily_return'])[0,1]/np.var(_spx['daily_return'])\n",
    "    return beta\n",
    "\n",
    "betas = [get_beta(tikr) for tikr in tickrs]\n",
    "sorter = np.argsort(betas)\n",
    "sorted_stocks = [tickrs[i] for i in sorter]\n",
    "sorted_betas = [betas[i] for i in sorter]\n",
    "\n",
    "df=pd.DataFrame({'Stock':sorted_stocks,'Beta':sorted_betas})\n",
    "print(df)"
   ]
  },
  {
   "cell_type": "code",
   "execution_count": 30,
   "metadata": {},
   "outputs": [
    {
     "data": {
      "image/png": "[encoded data removed]",
      "text/plain": [
       "<Figure size 640x480 with 1 Axes>"
      ]
     },
     "metadata": {},
     "output_type": "display_data"
    }
   ],
   "source": [
    "# Plotting the S&P 500 daily returns during bear markets\n",
    "%matplotlib inline\n",
    "import matplotlib.pyplot as plt\n",
    "spx['Close'].plot(color='blue')\n",
    "spx_bear['Close'].plot(color='red',linestyle='',marker='.',markersize=1)\n",
    "plt.title(f'S&P 500')\n",
    "plt.show()"
   ]
  },
  {
   "cell_type": "code",
   "execution_count": null,
   "metadata": {},
   "outputs": [
    {
     "name": "stdout",
     "output_type": "stream",
     "text": [
      "['-0.44', '-0.60', '-0.34', '-0.38', '-0.38', '-0.35', '-0.45', '-0.42']\n"
     ]
    }
   ],
   "source": [
    "# Find stocks which are less affected by bear markets\n",
    "import yfinance as yf\n",
    "import numpy as np\n",
    "import pandas as pd\n",
    "\n",
    "\n",
    "stocks=['AAPL','NVDA','MSFT','GOOG','GOOGL','AMZN','META','TSLA']\n",
    "spx=yf.Ticker('^GSPC').history(start=bear_markets[0][0], end=bear_markets[-1][-1])\n",
    "spx['daily_return']=spx['Close'].pct_change()\n",
    "spx.dropna(inplace=True)\n",
    "\n",
    "\n",
    "bear_markets=[('2000-08-29','2002-09-03'),('2007-10-09','2009-03-09'),('2020-02-19','2020-03-23'),('2021-12-29','2022-10-04')]\n",
    "\n",
    "def get_bear_market_returns(bear_markets, tikr):\n",
    "    try:\n",
    "        data=yf.Ticker(tikr).history(period=\"max\")\n",
    "    except:\n",
    "        print(f'Ticker {tikr} not found')\n",
    "        return None\n",
    "    bear_returns = []\n",
    "    for bear_market in bear_markets:\n",
    "        start,end=bear_market\n",
    "        _data=data[(data.index>=start) & (data.index<=end)]\n",
    "        if _data.empty:\n",
    "            continue\n",
    "        bear_returns.append((_data['Close'].iloc[-1]-_data['Close'].iloc[0])/_data['Close'].iloc[0])\n",
    "    \n",
    "    return np.average(bear_returns)# if bear_returns else None\n",
    "\n",
    "bear_returns = [get_bear_market_returns(bear_markets, tikr) for tikr in stocks]\n"
   ]
  },
  {
   "cell_type": "code",
   "execution_count": null,
   "metadata": {},
   "outputs": [],
   "source": [
    "df=pd.DataFrame({'stocks':tickrs,'bear_returns':bear_returns})\n",
    "df.sort_values(by='bear_returns',ascending=False,inplace=True)\n",
    "df.to_csv('bear_returns.csv',index=False)\n",
    "df.head(20)\n"
   ]
  },
  {
   "cell_type": "code",
   "execution_count": 58,
   "metadata": {},
   "outputs": [
    {
     "data": {
      "text/html": [
       "<div>\n",
       "<style scoped>\n",
       "    .dataframe tbody tr th:only-of-type {\n",
       "        vertical-align: middle;\n",
       "    }\n",
       "\n",
       "    .dataframe tbody tr th {\n",
       "        vertical-align: top;\n",
       "    }\n",
       "\n",
       "    .dataframe thead th {\n",
       "        text-align: right;\n",
       "    }\n",
       "</style>\n",
       "<table border=\"1\" class=\"dataframe\">\n",
       "  <thead>\n",
       "    <tr style=\"text-align: right;\">\n",
       "      <th></th>\n",
       "      <th>stocks</th>\n",
       "      <th>bear_returns</th>\n",
       "    </tr>\n",
       "  </thead>\n",
       "  <tbody>\n",
       "    <tr>\n",
       "      <th>0</th>\n",
       "      <td>CEG</td>\n",
       "      <td>1.143218</td>\n",
       "    </tr>\n",
       "    <tr>\n",
       "      <th>1</th>\n",
       "      <td>TSCO</td>\n",
       "      <td>0.830696</td>\n",
       "    </tr>\n",
       "    <tr>\n",
       "      <th>2</th>\n",
       "      <td>AZO</td>\n",
       "      <td>0.538697</td>\n",
       "    </tr>\n",
       "    <tr>\n",
       "      <th>3</th>\n",
       "      <td>NVR</td>\n",
       "      <td>0.516403</td>\n",
       "    </tr>\n",
       "    <tr>\n",
       "      <th>4</th>\n",
       "      <td>VTR</td>\n",
       "      <td>0.427086</td>\n",
       "    </tr>\n",
       "    <tr>\n",
       "      <th>...</th>\n",
       "      <td>...</td>\n",
       "      <td>...</td>\n",
       "    </tr>\n",
       "    <tr>\n",
       "      <th>505</th>\n",
       "      <td>MLIFT</td>\n",
       "      <td>NaN</td>\n",
       "    </tr>\n",
       "    <tr>\n",
       "      <th>506</th>\n",
       "      <td>AMTM</td>\n",
       "      <td>NaN</td>\n",
       "    </tr>\n",
       "    <tr>\n",
       "      <th>507</th>\n",
       "      <td>MXN</td>\n",
       "      <td>NaN</td>\n",
       "    </tr>\n",
       "    <tr>\n",
       "      <th>508</th>\n",
       "      <td>ESZ4</td>\n",
       "      <td>NaN</td>\n",
       "    </tr>\n",
       "    <tr>\n",
       "      <th>509</th>\n",
       "      <td></td>\n",
       "      <td>NaN</td>\n",
       "    </tr>\n",
       "  </tbody>\n",
       "</table>\n",
       "<p>510 rows × 2 columns</p>\n",
       "</div>"
      ],
      "text/plain": [
       "    stocks  bear_returns\n",
       "0      CEG      1.143218\n",
       "1     TSCO      0.830696\n",
       "2      AZO      0.538697\n",
       "3      NVR      0.516403\n",
       "4      VTR      0.427086\n",
       "..     ...           ...\n",
       "505  MLIFT           NaN\n",
       "506   AMTM           NaN\n",
       "507    MXN           NaN\n",
       "508   ESZ4           NaN\n",
       "509                  NaN\n",
       "\n",
       "[510 rows x 2 columns]"
      ]
     },
     "execution_count": 58,
     "metadata": {},
     "output_type": "execute_result"
    }
   ],
   "source": [
    "df=pd.read_csv('bear_returns.csv')\n",
    "df"
   ]
  },
  {
   "cell_type": "code",
   "execution_count": 62,
   "metadata": {},
   "outputs": [
    {
     "data": {
      "text/plain": [
       "0.5164030517709728"
      ]
     },
     "execution_count": 62,
     "metadata": {},
     "output_type": "execute_result"
    }
   ],
   "source": [
    "get_bear_market_returns(bear_markets,'NVR')"
   ]
  },
  {
   "cell_type": "code",
   "execution_count": 55,
   "metadata": {},
   "outputs": [
    {
     "name": "stdout",
     "output_type": "stream",
     "text": [
      "SPX: -38.36%\n",
      "['AAPL: -43.91%', 'NVDA: -60.39%', 'MSFT: -34.02%', 'GOOG: -37.87%', 'GOOGL: -38.09%', 'AMZN: -35.11%', 'META: -45.50%', 'TSLA: -41.88%']\n"
     ]
    }
   ],
   "source": [
    "print(f\"SPX: {get_bear_market_returns(bear_markets, '^GSPC')*100:.2f}%\")\n",
    "print([f'{stock}: {x*100:.2f}%' for stock,x in zip(stocks,bear_returns)])\n"
   ]
  },
  {
   "cell_type": "code",
   "execution_count": null,
   "metadata": {},
   "outputs": [],
   "source": []
  }
 ],
 "metadata": {
  "kernelspec": {
   "display_name": "base",
   "language": "python",
   "name": "python3"
  },
  "language_info": {
   "codemirror_mode": {
    "name": "ipython",
    "version": 3
   },
   "file_extension": ".py",
   "mimetype": "text/x-python",
   "name": "python",
   "nbconvert_exporter": "python",
   "pygments_lexer": "ipython3",
   "version": "3.12.2"
  }
 },
 "nbformat": 4,
 "nbformat_minor": 2
}
