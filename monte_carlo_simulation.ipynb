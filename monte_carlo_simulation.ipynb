{
 "cells": [
  {
   "cell_type": "code",
   "execution_count": null,
   "metadata": {},
   "outputs": [],
   "source": [
    "# Monte Carlo simulation and Value at Risk (VaR) calculation\n",
    "%matplotlib inline\n",
    "import matplotlib.pyplot as plt\n",
    "import yfinance as yf\n",
    "import numpy as np\n",
    "\n",
    "number_days = 30\n",
    "samples = 200\n",
    "tikr='AAPL'\n",
    "\n",
    "# Get the stock data\n",
    "data = yf.Ticker(tikr).history(period=\"max\")\n",
    "\n",
    "# Calculate daily returns\n",
    "data['log_ret'] = np.log(data['Close']/data['Close'].shift(1))\n",
    "stdev = data['log_ret'].std()\n",
    "mean = data['log_ret'].mean()\n",
    "\n",
    "# Calculate drift\n",
    "drift = mean - (np.power(stdev,2)/2)\n",
    "\n",
    "plt.figure(figsize=(15,7))\n",
    "\n",
    "final_prices = []\n",
    "# Generate random walks\n",
    "for _ in range(samples):\n",
    "    prev_day = data.Close.iloc[-number_days]  # Start from the last known price\n",
    "    next_day = np.zeros(number_days)\n",
    "    for i in range(number_days):\n",
    "        # Generate daily returns\n",
    "        random_value = np.random.normal(0, 1)\n",
    "        # Calculate next price using the correct formula\n",
    "        next_day[i] = prev_day * np.exp(drift + stdev * random_value)\n",
    "        prev_day = next_day[i]\n",
    "\n",
    "    final_prices.append(next_day[-1])\n",
    "    plt.plot(next_day, color='gray', alpha=0.5)\n",
    "\n",
    "# Calculate returns relative to initial price\n",
    "initial_price = data.Close.iloc[-number_days]\n",
    "\n",
    "# Calculate 95% VaR\n",
    "var_95 = np.percentile(final_prices, 5)\n",
    "plt.text(2,335,f\"95% VaR: {-(var_95-initial_price)*100/initial_price:.2f}%\",fontsize=12, color='red')\n",
    "\n",
    "plt.plot(next_day,color='gray', alpha=0.5, label='Monte Carlo Simulation')\n",
    "plt.plot([data.Close.iloc[-number_days]] * number_days, '--', label='Last Close Price', zorder=1000, linewidth=2, color='tab:cyan')\n",
    "plt.plot(data.Close.iloc[-number_days:].values, label='Real Price', color='tab:blue', linewidth=2)\n",
    "plt.title(f'Monte Carlo Simulation for {tikr}')\n",
    "plt.xlabel('Days')\n",
    "plt.ylabel('Price')\n",
    "plt.legend(loc='upper left')\n",
    "plt.xlim(0, number_days-1)\n",
    "plt.grid(True)\n",
    "plt.savefig('figures/monte_carlo_simulation.png')\n",
    "plt.show()"
   ]
  },
  {
   "cell_type": "code",
   "execution_count": null,
   "metadata": {},
   "outputs": [],
   "source": []
  }
 ],
 "metadata": {
  "kernelspec": {
   "display_name": "base",
   "language": "python",
   "name": "python3"
  },
  "language_info": {
   "codemirror_mode": {
    "name": "ipython",
    "version": 3
   },
   "file_extension": ".py",
   "mimetype": "text/x-python",
   "name": "python",
   "nbconvert_exporter": "python",
   "pygments_lexer": "ipython3",
   "version": "3.12.2"
  }
 },
 "nbformat": 4,
 "nbformat_minor": 2
}
